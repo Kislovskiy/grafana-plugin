{
 "cells": [
  {
   "cell_type": "code",
   "execution_count": 35,
   "metadata": {},
   "outputs": [
    {
     "name": "stdout",
     "output_type": "stream",
     "text": [
      "hop='a', hop_host='hop_a', average_latency=0.1\n",
      "hop='b', hop_host='hop_b', average_latency=0.2\n",
      "hop='b', hop_host='hop_k', average_latency=0.2\n",
      "hop='c', hop_host='hop_c', average_latency=0.3\n",
      "hop='d', hop_host='hop_d', average_latency=0.4\n"
     ]
    }
   ],
   "source": [
    "correlationId = [2, 2, 2, 2, 2, 2, 2, 2]\n",
    "hops = [\"hop_a\", \"hop_b\", \"hop_c\", \"hop_d\", \"hop_a\", \"hop_k\", \"hop_c\", \"hop_d\"]\n",
    "latency = [0.1, 0.2, 0.3, 0.4, 0.1, 0.2, 0.3, 0.4]\n",
    "loss = [0, 0, 0, 0, 0, 0, 0, 0]\n",
    "numbers = [\"a\", \"b\", \"c\", \"d\", \"a\", \"b\", \"c\", \"d\"]\n",
    "destinaton = [\"hop_d\", \"hop_d\", \"hop_d\", \"hop_d\", \"hop_d\", \"hop_d\", \"hop_d\", \"hop_d\"]\n",
    "\n",
    "hops = {\n",
    "    \"a\": [{\"hop_a\": {\"latency\": [0.1, 0.1]}}],\n",
    "    \"b\": [{\"hop_b\": {\"latency\": [0.2]}}, {\"hop_k\": {\"latency\": [0.2]}}],\n",
    "    \"c\": [{\"hop_c\": {\"latency\": [0.3, 0.3]}}],\n",
    "    \"d\": [{\"hop_d\": {\"latency\": [0.4, 0.4]}}]\n",
    "}\n",
    "\n",
    "for hop in hops:\n",
    "    for element in hops[hop]:\n",
    "        hop_host = list(element.keys())[0]\n",
    "        average_latency = sum(element[hop_host]['latency'])/len(element[hop_host]['latency'])\n",
    "        print(f\"{hop=}, {hop_host=}, {average_latency=}\")\n"
   ]
  },
  {
   "cell_type": "code",
   "execution_count": 86,
   "metadata": {},
   "outputs": [
    {
     "name": "stdout",
     "output_type": "stream",
     "text": [
      "a hop_a 0.1 0.0%\n",
      "b hop_b 0.2 0.0%\n",
      "b hop_k 0.2 0.0%\n",
      "c hop_c 0.3 0.0%\n",
      "d hop_d 0.4 0.0%\n"
     ]
    }
   ],
   "source": [
    "correlationId = [2, 2, 2, 2, 2, 2, 2, 2]\n",
    "hops = [\"hop_a\", \"hop_b\", \"hop_c\", \"hop_d\", \"hop_a\", \"hop_k\", \"hop_c\", \"hop_d\"]\n",
    "latency = [0.1, 0.2, 0.3, 0.4, 0.1, 0.2, 0.3, 0.4]\n",
    "loss = [0, 0, 0, 0, 0, 0, 0, 0]\n",
    "numbers = [\"a\", \"b\", \"c\", \"d\", \"a\", \"b\", \"c\", \"d\"]\n",
    "destinaton = [\"hop_d\", \"hop_d\", \"hop_d\", \"hop_d\", \"hop_d\", \"hop_d\", \"hop_d\", \"hop_d\"]\n",
    "\n",
    "graph = {}\n",
    "\n",
    "for i in range(len(hops)):\n",
    "    number = numbers[i]\n",
    "    hop = hops[i]\n",
    "    latency_value = latency[i]\n",
    "    loss_value = loss[i]\n",
    "\n",
    "    if number in graph:\n",
    "        if hop in graph[number]:\n",
    "            graph[number][hop][\"latency\"].append(latency_value)\n",
    "            graph[number][hop][\"loss\"].append(loss_value)\n",
    "        else:\n",
    "            graph[number][hop] = {\"latency\": [latency_value], \"loss\": [loss_value]}\n",
    "    else:\n",
    "        graph[number] = {hop: {\"latency\": [latency_value], \"loss\": [loss_value]}}\n",
    "\n",
    "graph\n",
    "\n",
    "for hop_number in graph:\n",
    "    for hop_host in graph[hop_number].keys():\n",
    "        latency = sum(graph[hop_number][hop_host][\"latency\"]) / len(graph[hop_number][hop_host][\"latency\"])\n",
    "        loss = sum(graph[hop_number][hop_host][\"loss\"]) / len(graph[hop_number][hop_host][\"loss\"])\n",
    "        print(f\"{hop_number} {hop_host} {latency} {loss}%\")\n"
   ]
  },
  {
   "cell_type": "code",
   "execution_count": 63,
   "metadata": {},
   "outputs": [
    {
     "data": {
      "text/plain": [
       "{'a': {'hop_a': {'latency': [0.1, 0.1], 'loss': [0, 0]}},\n",
       " 'b': {'hop_b': {'latency': [0.2], 'loss': [0]},\n",
       "  'hop_k': {'latency': [0.2], 'loss': [0]}},\n",
       " 'c': {'hop_c': {'latency': [0.3, 0.3], 'loss': [0, 0]}},\n",
       " 'd': {'hop_d': {'latency': [0.4, 0.4], 'loss': [0, 0]}}}"
      ]
     },
     "execution_count": 63,
     "metadata": {},
     "output_type": "execute_result"
    }
   ],
   "source": [
    "graph = {}\n",
    "\n",
    "for i in range(len(hops)):\n",
    "    if numbers[i] in graph.keys():\n",
    "        if hops[i] in graph[numbers[i]].keys():\n",
    "            graph[numbers[i]][hops[i]][\"latency\"].append(latency[i])\n",
    "            graph[numbers[i]][hops[i]][\"loss\"].append(loss[i])\n",
    "        else:\n",
    "            graph[numbers[i]][hops[i]] = {\"latency\": [latency[i]], \"loss\": [loss[i]]}\n",
    "    else:\n",
    "        graph[numbers[i]] = {hops[i]: {\"latency\": [latency[i]], \"loss\": [loss[i]]}}\n",
    "\n",
    "graph"
   ]
  },
  {
   "cell_type": "code",
   "execution_count": 36,
   "metadata": {},
   "outputs": [
    {
     "name": "stdout",
     "output_type": "stream",
     "text": [
      "{'a': [{'hop_a': {'latency': [0.1, 0.1]}}], 'b': [{'hop_b': {'latency': [0.2]}}, {'hop_k': {'latency': [0.2]}}], 'c': [{'hop_c': {'latency': [0.3, 0.3]}}], 'd': [{'hop_d': {'latency': [0.4, 0.4]}}]}\n"
     ]
    }
   ],
   "source": [
    "def transform_to_dict(hops, latency, numbers):\n",
    "    hops_dict = {}\n",
    "\n",
    "    for i, num in enumerate(numbers):\n",
    "        hop = hops[i]\n",
    "        lat = latency[i]\n",
    "\n",
    "        if num not in hops_dict:\n",
    "            hops_dict[num] = []\n",
    "\n",
    "        hop_dict = {hop: {\"latency\": [lat]}}\n",
    "\n",
    "        existing_hop_dicts = [item for item in hops_dict[num] if hop in item]\n",
    "        if existing_hop_dicts:\n",
    "            existing_hop_dict = existing_hop_dicts[0]\n",
    "            existing_hop_dict[hop][\"latency\"].append(lat)\n",
    "        else:\n",
    "            hops_dict[num].append(hop_dict)\n",
    "\n",
    "    return hops_dict\n",
    "\n",
    "correlationId = [2, 2, 2, 2, 2, 2, 2, 2]\n",
    "hops = [\"hop_a\", \"hop_b\", \"hop_c\", \"hop_d\", \"hop_a\", \"hop_k\", \"hop_c\", \"hop_d\"]\n",
    "latency = [0.1, 0.2, 0.3, 0.4, 0.1, 0.2, 0.3, 0.4]\n",
    "loss = [0, 0, 0, 0, 0, 0, 0, 0]\n",
    "numbers = [\"a\", \"b\", \"c\", \"d\", \"a\", \"b\", \"c\", \"d\"]\n",
    "destination = [\"hop_d\", \"hop_d\", \"hop_d\", \"hop_d\", \"hop_d\", \"hop_d\", \"hop_d\", \"hop_d\"]\n",
    "\n",
    "result = transform_to_dict(hops, latency, numbers)\n",
    "print(result)\n"
   ]
  },
  {
   "cell_type": "code",
   "execution_count": 5,
   "metadata": {},
   "outputs": [
    {
     "name": "stdout",
     "output_type": "stream",
     "text": [
      "Vertex: hop_a\n",
      "  Edge to hop_d - Latency: 0.1, Loss: 0, Number: a\n",
      "  Edge to hop_d - Latency: 0.1, Loss: 0, Number: a\n",
      "Vertex: hop_b\n",
      "  Edge to hop_d - Latency: 0.2, Loss: 0, Number: b\n",
      "Vertex: hop_c\n",
      "  Edge to hop_d - Latency: 0.3, Loss: 0, Number: c\n",
      "  Edge to hop_d - Latency: 0.3, Loss: 0, Number: c\n",
      "Vertex: hop_d\n",
      "  Edge to hop_d - Latency: 0.4, Loss: 0, Number: d\n",
      "  Edge to hop_d - Latency: 0.4, Loss: 0, Number: d\n",
      "Vertex: hop_k\n",
      "  Edge to hop_d - Latency: 0.2, Loss: 0, Number: b\n"
     ]
    }
   ],
   "source": [
    "correlationId = [2, 2, 2, 2, 2, 2, 2, 2]\n",
    "hops = [\"hop_a\", \"hop_b\", \"hop_c\", \"hop_d\", \"hop_a\", \"hop_k\", \"hop_c\", \"hop_d\"]\n",
    "latency = [0.1, 0.2, 0.3, 0.4, 0.1, 0.2, 0.3, 0.4]\n",
    "loss = [0, 0, 0, 0, 0, 0, 0, 0]\n",
    "numbers = [\"a\", \"b\", \"c\", \"d\", \"a\", \"b\", \"c\", \"d\"]\n",
    "destination = [\"hop_d\", \"hop_d\", \"hop_d\", \"hop_d\", \"hop_d\", \"hop_d\", \"hop_d\", \"hop_d\"]\n",
    "\n",
    "# Create an empty dictionary to represent the graph\n",
    "graph = {}\n",
    "\n",
    "# Iterate through the data and populate the graph\n",
    "for i in range(len(correlationId)):\n",
    "    source_hop = hops[i]\n",
    "    dest_hop = destination[i]\n",
    "    latency_value = latency[i]\n",
    "    loss_value = loss[i]\n",
    "\n",
    "    if source_hop not in graph:\n",
    "        graph[source_hop] = []\n",
    "\n",
    "    # Create a dictionary for each edge and add it to the list of edges for the source vertex\n",
    "    edge = {\n",
    "        \"destination\": dest_hop,\n",
    "        \"latency\": latency_value,\n",
    "        \"loss\": loss_value,\n",
    "        \"number\": numbers[i]\n",
    "    }\n",
    "    graph[source_hop].append(edge)\n",
    "\n",
    "# Visualize the graph\n",
    "for source_hop, edges in graph.items():\n",
    "    print(f\"Vertex: {source_hop}\")\n",
    "    for edge in edges:\n",
    "        dest_hop = edge[\"destination\"]\n",
    "        latency_value = edge[\"latency\"]\n",
    "        loss_value = edge[\"loss\"]\n",
    "        number = edge[\"number\"]\n",
    "        print(f\"  Edge to {dest_hop} - Latency: {latency_value}, Loss: {loss_value}, Number: {number}\")\n"
   ]
  },
  {
   "cell_type": "code",
   "execution_count": 6,
   "metadata": {},
   "outputs": [
    {
     "data": {
      "text/plain": [
       "{'hop_a': [{'destination': 'hop_d', 'latency': 0.1, 'loss': 0, 'number': 'a'},\n",
       "  {'destination': 'hop_d', 'latency': 0.1, 'loss': 0, 'number': 'a'}],\n",
       " 'hop_b': [{'destination': 'hop_d', 'latency': 0.2, 'loss': 0, 'number': 'b'}],\n",
       " 'hop_c': [{'destination': 'hop_d', 'latency': 0.3, 'loss': 0, 'number': 'c'},\n",
       "  {'destination': 'hop_d', 'latency': 0.3, 'loss': 0, 'number': 'c'}],\n",
       " 'hop_d': [{'destination': 'hop_d', 'latency': 0.4, 'loss': 0, 'number': 'd'},\n",
       "  {'destination': 'hop_d', 'latency': 0.4, 'loss': 0, 'number': 'd'}],\n",
       " 'hop_k': [{'destination': 'hop_d', 'latency': 0.2, 'loss': 0, 'number': 'b'}]}"
      ]
     },
     "execution_count": 6,
     "metadata": {},
     "output_type": "execute_result"
    }
   ],
   "source": [
    "graph"
   ]
  },
  {
   "cell_type": "code",
   "execution_count": null,
   "metadata": {},
   "outputs": [],
   "source": []
  },
  {
   "cell_type": "code",
   "execution_count": null,
   "metadata": {},
   "outputs": [],
   "source": [
    "from dataclasses import dataclass\n",
    "\n",
    "@dataclass\n",
    "class Tracepath:\n",
    "    hop: dict\n",
    "    source: str\n",
    "    destination: str\n",
    "    correlation_id: int\n",
    "\n",
    "    def add_hop(self, hop_number, hop, latency, loss):\n",
    "        if self.hop[hop_number]:\n",
    "            self.hop[hop_number].append([])\n",
    "\n",
    "\n",
    "for i in range(len(numbers)):\n",
    "    if i == 0:\n",
    "        Tracepath()\n",
    "\n"
   ]
  }
 ],
 "metadata": {
  "kernelspec": {
   "display_name": "notebooks",
   "language": "python",
   "name": "python3"
  },
  "language_info": {
   "codemirror_mode": {
    "name": "ipython",
    "version": 3
   },
   "file_extension": ".py",
   "mimetype": "text/x-python",
   "name": "python",
   "nbconvert_exporter": "python",
   "pygments_lexer": "ipython3",
   "version": "3.11.4"
  }
 },
 "nbformat": 4,
 "nbformat_minor": 2
}
